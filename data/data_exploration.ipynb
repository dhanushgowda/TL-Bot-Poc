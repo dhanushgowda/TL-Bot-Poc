{
 "cells": [
  {
   "cell_type": "code",
   "execution_count": 31,
   "metadata": {
    "collapsed": true
   },
   "outputs": [],
   "source": [
    "import gzip\n",
    "import cPickle\n",
    "import urllib\n",
    "import os\n",
    "\n",
    "def load_udem(filename):\n",
    "    f = gzip.open(filename,'rb')\n",
    "    return f\n",
    "\n",
    "def atisfold(fold):\n",
    "    assert fold in range(5)\n",
    "    f = load_udem('atis.fold' + str(fold) + '.pkl.gz')\n",
    "    train_set, valid_set, test_set, dicts = cPickle.load(f)\n",
    "    return train_set, valid_set, test_set, dicts"
   ]
  },
  {
   "cell_type": "code",
   "execution_count": 32,
   "metadata": {
    "collapsed": true
   },
   "outputs": [],
   "source": [
    "train, _, test, dic = atisfold(3)"
   ]
  },
  {
   "cell_type": "code",
   "execution_count": 33,
   "metadata": {
    "collapsed": true
   },
   "outputs": [],
   "source": [
    "w2idx, ne2idx, labels2idx = dic['words2idx'], dic['tables2idx'], dic['labels2idx']"
   ]
  },
  {
   "cell_type": "code",
   "execution_count": 34,
   "metadata": {
    "collapsed": true
   },
   "outputs": [],
   "source": [
    "idx2w = dict((v, k) for k, v in w2idx.iteritems())\n",
    "idx2ne = dict((v, k) for k, v in ne2idx.iteritems())\n",
    "idx2la = dict((v, k) for k, v in labels2idx.iteritems())"
   ]
  },
  {
   "cell_type": "code",
   "execution_count": 35,
   "metadata": {
    "collapsed": false
   },
   "outputs": [],
   "source": [
    "sentence_indexes = test[0] + train[0] + _[0]"
   ]
  },
  {
   "cell_type": "code",
   "execution_count": 36,
   "metadata": {
    "collapsed": false
   },
   "outputs": [],
   "source": [
    "label_indexes = test[2] + train[2] + _[2]"
   ]
  },
  {
   "cell_type": "code",
   "execution_count": 39,
   "metadata": {
    "collapsed": false
   },
   "outputs": [
    {
     "data": {
      "text/plain": [
       "(5871, 5871)"
      ]
     },
     "execution_count": 39,
     "metadata": {},
     "output_type": "execute_result"
    }
   ],
   "source": [
    "len(label_indexes), len(sentence_indexes)"
   ]
  },
  {
   "cell_type": "code",
   "execution_count": 53,
   "metadata": {
    "collapsed": false
   },
   "outputs": [
    {
     "name": "stdout",
     "output_type": "stream",
     "text": [
      "on O\n",
      "april B-depart_date.month_name\n",
      "first B-depart_date.day_number\n",
      "i O\n",
      "need O\n",
      "a O\n",
      "ticket O\n",
      "from O\n",
      "tacoma B-fromloc.city_name\n",
      "to O\n",
      "san B-toloc.city_name\n",
      "jose I-toloc.city_name\n",
      "departing O\n",
      "before B-depart_time.time_relative\n",
      "DIGIT B-depart_time.time\n",
      "am I-depart_time.time\n"
     ]
    }
   ],
   "source": [
    "for x,y in zip(sentence_indexes[1],label_indexes[1]):\n",
    "    print idx2w[x], idx2la[y]"
   ]
  },
  {
   "cell_type": "code",
   "execution_count": 72,
   "metadata": {
    "collapsed": false
   },
   "outputs": [],
   "source": [
    "labels = map(lambda x: idx2la[x], range(0,127))"
   ]
  },
  {
   "cell_type": "code",
   "execution_count": 60,
   "metadata": {
    "collapsed": false
   },
   "outputs": [],
   "source": [
    "train_sen,z,train_lab = train"
   ]
  },
  {
   "cell_type": "code",
   "execution_count": 80,
   "metadata": {
    "collapsed": false
   },
   "outputs": [],
   "source": [
    "for s, l in zip(train_sen,train_lab):\n",
    "    sen = map(lambda x: idx2w[x], s)\n",
    "    lab = map(lambda x: idx2la[x], l)\n",
    "    if ' '.join(lab).find('first class')>-1:\n",
    "        print ' '.join(sen), lab\n",
    "        break"
   ]
  },
  {
   "cell_type": "code",
   "execution_count": 81,
   "metadata": {
    "collapsed": false
   },
   "outputs": [
    {
     "name": "stdout",
     "output_type": "stream",
     "text": [
      "B-city_name\n",
      "B-fromloc.city_name\n",
      "B-stoploc.city_name\n",
      "B-toloc.city_name\n",
      "I-city_name\n",
      "I-fromloc.city_name\n",
      "I-stoploc.city_name\n",
      "I-toloc.city_name\n"
     ]
    }
   ],
   "source": [
    "for label in labels:\n",
    "    if label.find(\"city_name\")>-1:\n",
    "        print label"
   ]
  },
  {
   "cell_type": "code",
   "execution_count": 91,
   "metadata": {
    "collapsed": false
   },
   "outputs": [],
   "source": [
    "from collections import Counter\n",
    "x = Counter()\n",
    "for s, l in zip(train_sen,train_lab):\n",
    "    for a,b in zip(s,l):\n",
    "        sen = idx2w[a]\n",
    "        lab = idx2la[b]\n",
    "        if lab.find('city_name')>-1:\n",
    "            x[sen] += 1"
   ]
  },
  {
   "cell_type": "code",
   "execution_count": 101,
   "metadata": {
    "collapsed": false
   },
   "outputs": [
    {
     "data": {
      "text/plain": [
       "698"
      ]
     },
     "execution_count": 101,
     "metadata": {},
     "output_type": "execute_result"
    }
   ],
   "source": [
    "x['francisco']"
   ]
  },
  {
   "cell_type": "code",
   "execution_count": 100,
   "metadata": {
    "collapsed": false
   },
   "outputs": [
    {
     "data": {
      "text/plain": [
       "'boston'"
      ]
     },
     "execution_count": 100,
     "metadata": {},
     "output_type": "execute_result"
    }
   ],
   "source": [
    "max(x, key=x.get)"
   ]
  },
  {
   "cell_type": "code",
   "execution_count": null,
   "metadata": {
    "collapsed": true
   },
   "outputs": [],
   "source": []
  }
 ],
 "metadata": {
  "kernelspec": {
   "display_name": "Python 2",
   "language": "python",
   "name": "python2"
  },
  "language_info": {
   "codemirror_mode": {
    "name": "ipython",
    "version": 2
   },
   "file_extension": ".py",
   "mimetype": "text/x-python",
   "name": "python",
   "nbconvert_exporter": "python",
   "pygments_lexer": "ipython2",
   "version": "2.7.12"
  }
 },
 "nbformat": 4,
 "nbformat_minor": 0
}
